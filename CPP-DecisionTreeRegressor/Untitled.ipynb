{
 "cells": [
  {
   "cell_type": "code",
   "execution_count": 1,
   "id": "3668df8f-7ccc-4757-a129-32288edbfea3",
   "metadata": {},
   "outputs": [],
   "source": [
    "import pandas as pd"
   ]
  },
  {
   "cell_type": "code",
   "execution_count": 23,
   "id": "1e3a081f-7a59-4ff0-b310-8ba9888f4c85",
   "metadata": {},
   "outputs": [],
   "source": [
    "# create wrapper to call C++ library directly from Python\n",
    "import ctypes\n",
    "import pathlib\n",
    "\n",
    "def cpp_regression_tree(trainPath, testPath):\n",
    "    # Load the shared library into ctypes\n",
    "    libname = pathlib.Path().absolute() / \"../build/libRegressionTree.dylib\"\n",
    "\n",
    "    c_lib = ctypes.CDLL(libname)\n",
    "    regressionTree = c_lib.regressionTree\n",
    "\n",
    "    # response type is a integer pointer\n",
    "    regressionTree.restype = ctypes.POINTER(ctypes.c_int)\n",
    "\n",
    "    # argument types are pointers to characters\n",
    "    regressionTree.argtypes = [ctypes.c_char_p, ctypes.c_char_p]\n",
    "\n",
    "\n",
    "    with open(testPath) as f:\n",
    "        first_line = f.readline()\n",
    "    number_predictions = first_line.count(',') + 1\n",
    "    \n",
    "    regressionTreeP = regressionTree(trainPath.encode('utf-8'), testPath.encode('utf-8'))\n",
    "\n",
    "    # parsing predictions into a list for Python\n",
    "    predictions = [regressionTree[i] for i in range(number_predictions)]\n",
    "    \n",
    "    return predictions"
   ]
  },
  {
   "cell_type": "markdown",
   "id": "18b1a18b-6b80-4fcc-8c07-402d339b8378",
   "metadata": {},
   "source": [
    "# Dataset preparation"
   ]
  },
  {
   "cell_type": "code",
   "execution_count": 4,
   "id": "c6db7b88-afda-4887-ad28-4190cd0718d6",
   "metadata": {},
   "outputs": [],
   "source": [
    "import numpy as np\n",
    "from random import uniform\n",
    "from sklearn import datasets\n",
    "from random import uniform\n",
    "from numpy.random import normal\n",
    "from numpy.polynomial import Polynomial\n",
    "import matplotlib.pyplot as plt\n",
    "\n",
    "class Uniform:\n",
    "    def __init__(self, means, stdevs, n_samples=100, min_x=0.0, max_x=50.0, min_y=0.0, max_y=50.0):\n",
    "        self.means = means\n",
    "        self.stdevs = stdevs\n",
    "        self.n_samples = n_samples\n",
    "        self.min_x = min_x\n",
    "        self.max_x = max_x\n",
    "        self.min_y = min_y\n",
    "        self.max_y = max_y\n",
    "        self.boundaries = []\n",
    "        \n",
    "    def make_regression(self):\n",
    "        X = []\n",
    "        y = []\n",
    "        for i in range(self.n_samples):\n",
    "            data_x = uniform(self.min_x, self.max_x)\n",
    "            data_y = uniform(self.min_y, self.max_y)\n",
    "            X.append([data_x, data_y])\n",
    "        self.boundaries = [self.max_x * 0.5 ,self.max_y * 0.5]\n",
    "        for row in X:\n",
    "            if (row[0] < self.boundaries[0]) & (row[1] < self.boundaries[1]):\n",
    "                y.append(np.random.normal(self.means[0], self.stdevs[0]))\n",
    "            elif (row[0] < self.boundaries[0]) & (row[1] >= self.boundaries[1]):\n",
    "                y.append(np.random.normal(self.means[1], self.stdevs[1]))\n",
    "            elif (row[0] >= self.boundaries[0]) & (row[1] < self.boundaries[1]):\n",
    "                y.append(np.random.normal(self.means[2], self.stdevs[2]))\n",
    "            else:\n",
    "                y.append(np.random.normal(self.means[3], self.stdevs[3]))\n",
    "        return np.array(X), np.array(y)\n",
    "    \n",
    "    def plot_dataset(self, X, y):\n",
    "        plt.scatter(X[:,0], X[:, 1], c=y)\n",
    "        plt.vlines(self.boundaries[0], 0.0, 50.0)\n",
    "        plt.hlines(self.boundaries[1], 0.0, 50.0)"
   ]
  },
  {
   "cell_type": "code",
   "execution_count": 5,
   "id": "e783a171-8691-4955-a185-eeb60729430d",
   "metadata": {},
   "outputs": [],
   "source": [
    "def plot_grid(X, y, regressor):\n",
    "    mx = np.linspace(min(X[:,0]), max(X[:,0]), 101)\n",
    "    my = np.linspace(min(X[:,1]), max(X[:,1]), 101)\n",
    "    xx, yy = np.meshgrid(mx, my)\n",
    "    grid = np.column_stack((xx.ravel(), yy.ravel()))\n",
    "    plt.scatter(grid[:,0], grid[:, 1], c=regressor.predict(grid), alpha=.05)\n",
    "    plt.scatter(X[:,0], X[:, 1], c=y)"
   ]
  },
  {
   "cell_type": "code",
   "execution_count": 7,
   "id": "e85dde10-0c15-450a-b748-05eb1aec0560",
   "metadata": {},
   "outputs": [],
   "source": [
    "dataset = Uniform([5, 10, 15, 20], [1.0, 1.0, 1.0, 1.0])\n",
    "X, y = dataset.make_regression()"
   ]
  },
  {
   "cell_type": "code",
   "execution_count": 8,
   "id": "a2fde6d5-8c60-4a39-a6c6-48f33c206c6b",
   "metadata": {},
   "outputs": [
    {
     "data": {
      "image/png": "[encoded data removed]",
      "text/plain": [
       "<Figure size 432x288 with 1 Axes>"
      ]
     },
     "metadata": {
      "needs_background": "light"
     },
     "output_type": "display_data"
    }
   ],
   "source": [
    "dataset.plot_dataset(X,y)"
   ]
  },
  {
   "cell_type": "code",
   "execution_count": 14,
   "id": "d5acdc68-d6e5-4723-aef2-0545e215d3bc",
   "metadata": {},
   "outputs": [],
   "source": [
    "train_df = pd.DataFrame(data=zip(X[:,0], X[:,1],y), columns=['x', 'y', 'target'])"
   ]
  },
  {
   "cell_type": "code",
   "execution_count": 15,
   "id": "93f3fddc-bcbe-4d7d-91b8-61d013a954e8",
   "metadata": {},
   "outputs": [],
   "source": [
    "from sklearn.model_selection import train_test_split\n",
    "X_train, X_test = train_test_split(train_df, random_state=1)"
   ]
  },
  {
   "cell_type": "code",
   "execution_count": 16,
   "id": "95717c2d-740b-4eba-a76b-2ee2961ed6dd",
   "metadata": {},
   "outputs": [
    {
     "data": {
      "text/html": [
       "<div>\n",
       "<style scoped>\n",
       "    .dataframe tbody tr th:only-of-type {\n",
       "        vertical-align: middle;\n",
       "    }\n",
       "\n",
       "    .dataframe tbody tr th {\n",
       "        vertical-align: top;\n",
       "    }\n",
       "\n",
       "    .dataframe thead th {\n",
       "        text-align: right;\n",
       "    }\n",
       "</style>\n",
       "<table border=\"1\" class=\"dataframe\">\n",
       "  <thead>\n",
       "    <tr style=\"text-align: right;\">\n",
       "      <th></th>\n",
       "      <th>x</th>\n",
       "      <th>y</th>\n",
       "      <th>target</th>\n",
       "    </tr>\n",
       "  </thead>\n",
       "  <tbody>\n",
       "    <tr>\n",
       "      <th>35</th>\n",
       "      <td>26.288343</td>\n",
       "      <td>28.775438</td>\n",
       "      <td>19.894197</td>\n",
       "    </tr>\n",
       "    <tr>\n",
       "      <th>94</th>\n",
       "      <td>27.627568</td>\n",
       "      <td>2.658976</td>\n",
       "      <td>15.325277</td>\n",
       "    </tr>\n",
       "    <tr>\n",
       "      <th>27</th>\n",
       "      <td>9.319916</td>\n",
       "      <td>2.768668</td>\n",
       "      <td>5.259524</td>\n",
       "    </tr>\n",
       "    <tr>\n",
       "      <th>46</th>\n",
       "      <td>41.365973</td>\n",
       "      <td>25.465145</td>\n",
       "      <td>20.310103</td>\n",
       "    </tr>\n",
       "    <tr>\n",
       "      <th>38</th>\n",
       "      <td>36.524273</td>\n",
       "      <td>26.506663</td>\n",
       "      <td>18.422284</td>\n",
       "    </tr>\n",
       "    <tr>\n",
       "      <th>...</th>\n",
       "      <td>...</td>\n",
       "      <td>...</td>\n",
       "      <td>...</td>\n",
       "    </tr>\n",
       "    <tr>\n",
       "      <th>75</th>\n",
       "      <td>29.956142</td>\n",
       "      <td>26.209004</td>\n",
       "      <td>20.793983</td>\n",
       "    </tr>\n",
       "    <tr>\n",
       "      <th>9</th>\n",
       "      <td>19.239638</td>\n",
       "      <td>13.369212</td>\n",
       "      <td>4.567077</td>\n",
       "    </tr>\n",
       "    <tr>\n",
       "      <th>72</th>\n",
       "      <td>44.673611</td>\n",
       "      <td>39.842902</td>\n",
       "      <td>20.805195</td>\n",
       "    </tr>\n",
       "    <tr>\n",
       "      <th>12</th>\n",
       "      <td>31.392048</td>\n",
       "      <td>40.293364</td>\n",
       "      <td>19.762360</td>\n",
       "    </tr>\n",
       "    <tr>\n",
       "      <th>37</th>\n",
       "      <td>28.165699</td>\n",
       "      <td>15.013541</td>\n",
       "      <td>16.686420</td>\n",
       "    </tr>\n",
       "  </tbody>\n",
       "</table>\n",
       "<p>75 rows × 3 columns</p>\n",
       "</div>"
      ],
      "text/plain": [
       "            x          y     target\n",
       "35  26.288343  28.775438  19.894197\n",
       "94  27.627568   2.658976  15.325277\n",
       "27   9.319916   2.768668   5.259524\n",
       "46  41.365973  25.465145  20.310103\n",
       "38  36.524273  26.506663  18.422284\n",
       "..        ...        ...        ...\n",
       "75  29.956142  26.209004  20.793983\n",
       "9   19.239638  13.369212   4.567077\n",
       "72  44.673611  39.842902  20.805195\n",
       "12  31.392048  40.293364  19.762360\n",
       "37  28.165699  15.013541  16.686420\n",
       "\n",
       "[75 rows x 3 columns]"
      ]
     },
     "execution_count": 16,
     "metadata": {},
     "output_type": "execute_result"
    }
   ],
   "source": [
    "X_train"
   ]
  },
  {
   "cell_type": "code",
   "execution_count": 19,
   "id": "0cd8c275-b204-4954-a9ee-3523f68b270e",
   "metadata": {},
   "outputs": [],
   "source": [
    "# need to transpose to be compatible with C++ library\n",
    "X_train.T.to_csv(\"./test/resources/train.csv\", header=False, index=False)"
   ]
  },
  {
   "cell_type": "code",
   "execution_count": 21,
   "id": "20cd4d7a-2750-4875-ab86-8a875e170641",
   "metadata": {},
   "outputs": [],
   "source": [
    "# remove outcomes from test\n",
    "X_test.drop(columns='target').T.to_csv(\"./test/resources/test.csv\", header=False, index=False)"
   ]
  },
  {
   "cell_type": "code",
   "execution_count": 22,
   "id": "f7a39275-6e8c-4988-aa16-8f8fa25177ab",
   "metadata": {},
   "outputs": [
    {
     "data": {
      "text/plain": [
       "80     6.835640\n",
       "84     5.853376\n",
       "33    13.751008\n",
       "81    20.426414\n",
       "93    20.355625\n",
       "17    16.405236\n",
       "36     6.094049\n",
       "82    20.582423\n",
       "69     8.811013\n",
       "65    13.555116\n",
       "92     5.758268\n",
       "39     9.651752\n",
       "56     3.959449\n",
       "52    14.781476\n",
       "51    10.933915\n",
       "32    19.764478\n",
       "31    18.713559\n",
       "44     6.689341\n",
       "78     9.096388\n",
       "10     9.108782\n",
       "2     21.100359\n",
       "73    10.825824\n",
       "97    19.275304\n",
       "62     5.357880\n",
       "19    16.108532\n",
       "Name: target, dtype: float64"
      ]
     },
     "execution_count": 22,
     "metadata": {},
     "output_type": "execute_result"
    }
   ],
   "source": [
    "X_test.target"
   ]
  },
  {
   "cell_type": "code",
   "execution_count": 24,
   "id": "c0289eba-a0eb-43da-86e2-4c8e0abc5def",
   "metadata": {},
   "outputs": [
    {
     "ename": "OSError",
     "evalue": "dlopen(/Users/margotgeerts/Documents/CPP-DecisionTreeRegressor/CPP-DecisionTreeRegressor/../build/libDecisionTree.dylib, 0x0006): tried: '/Users/margotgeerts/Documents/CPP-DecisionTreeRegressor/CPP-DecisionTreeRegressor/../build/libDecisionTree.dylib' (no such file), '/usr/local/lib/libDecisionTree.dylib' (no such file), '/usr/lib/libDecisionTree.dylib' (no such file)",
     "output_type": "error",
     "traceback": [
      "\u001b[0;31m---------------------------------------------------------------------------\u001b[0m",
      "\u001b[0;31mOSError\u001b[0m                                   Traceback (most recent call last)",
      "\u001b[0;32m<ipython-input-24-9984ed28c33c>\u001b[0m in \u001b[0;36m<module>\u001b[0;34m\u001b[0m\n\u001b[1;32m      1\u001b[0m \u001b[0;31m# read data csvs into C++ library and return predictions\u001b[0m\u001b[0;34m\u001b[0m\u001b[0;34m\u001b[0m\u001b[0;34m\u001b[0m\u001b[0m\n\u001b[0;32m----> 2\u001b[0;31m \u001b[0mpredictions\u001b[0m \u001b[0;34m=\u001b[0m \u001b[0mcpp_decision_tree\u001b[0m\u001b[0;34m(\u001b[0m\u001b[0;34m\"./test/resources/train.csv\"\u001b[0m\u001b[0;34m,\u001b[0m \u001b[0;34m\"./test/resources/test.csv\"\u001b[0m\u001b[0;34m)\u001b[0m\u001b[0;34m\u001b[0m\u001b[0;34m\u001b[0m\u001b[0m\n\u001b[0m",
      "\u001b[0;32m<ipython-input-2-36175e3bd65a>\u001b[0m in \u001b[0;36mcpp_decision_tree\u001b[0;34m(trainPath, testPath)\u001b[0m\n\u001b[1;32m      7\u001b[0m     \u001b[0mlibname\u001b[0m \u001b[0;34m=\u001b[0m \u001b[0mpathlib\u001b[0m\u001b[0;34m.\u001b[0m\u001b[0mPath\u001b[0m\u001b[0;34m(\u001b[0m\u001b[0;34m)\u001b[0m\u001b[0;34m.\u001b[0m\u001b[0mabsolute\u001b[0m\u001b[0;34m(\u001b[0m\u001b[0;34m)\u001b[0m \u001b[0;34m/\u001b[0m \u001b[0;34m\"../build/libDecisionTree.dylib\"\u001b[0m\u001b[0;34m\u001b[0m\u001b[0;34m\u001b[0m\u001b[0m\n\u001b[1;32m      8\u001b[0m \u001b[0;34m\u001b[0m\u001b[0m\n\u001b[0;32m----> 9\u001b[0;31m     \u001b[0mc_lib\u001b[0m \u001b[0;34m=\u001b[0m \u001b[0mctypes\u001b[0m\u001b[0;34m.\u001b[0m\u001b[0mCDLL\u001b[0m\u001b[0;34m(\u001b[0m\u001b[0mlibname\u001b[0m\u001b[0;34m)\u001b[0m\u001b[0;34m\u001b[0m\u001b[0;34m\u001b[0m\u001b[0m\n\u001b[0m\u001b[1;32m     10\u001b[0m     \u001b[0mdecisionTree\u001b[0m \u001b[0;34m=\u001b[0m \u001b[0mc_lib\u001b[0m\u001b[0;34m.\u001b[0m\u001b[0mdecisionTree\u001b[0m\u001b[0;34m\u001b[0m\u001b[0;34m\u001b[0m\u001b[0m\n\u001b[1;32m     11\u001b[0m \u001b[0;34m\u001b[0m\u001b[0m\n",
      "\u001b[0;32m~/opt/anaconda3/lib/python3.8/ctypes/__init__.py\u001b[0m in \u001b[0;36m__init__\u001b[0;34m(self, name, mode, handle, use_errno, use_last_error, winmode)\u001b[0m\n\u001b[1;32m    379\u001b[0m \u001b[0;34m\u001b[0m\u001b[0m\n\u001b[1;32m    380\u001b[0m         \u001b[0;32mif\u001b[0m \u001b[0mhandle\u001b[0m \u001b[0;32mis\u001b[0m \u001b[0;32mNone\u001b[0m\u001b[0;34m:\u001b[0m\u001b[0;34m\u001b[0m\u001b[0;34m\u001b[0m\u001b[0m\n\u001b[0;32m--> 381\u001b[0;31m             \u001b[0mself\u001b[0m\u001b[0;34m.\u001b[0m\u001b[0m_handle\u001b[0m \u001b[0;34m=\u001b[0m \u001b[0m_dlopen\u001b[0m\u001b[0;34m(\u001b[0m\u001b[0mself\u001b[0m\u001b[0;34m.\u001b[0m\u001b[0m_name\u001b[0m\u001b[0;34m,\u001b[0m \u001b[0mmode\u001b[0m\u001b[0;34m)\u001b[0m\u001b[0;34m\u001b[0m\u001b[0;34m\u001b[0m\u001b[0m\n\u001b[0m\u001b[1;32m    382\u001b[0m         \u001b[0;32melse\u001b[0m\u001b[0;34m:\u001b[0m\u001b[0;34m\u001b[0m\u001b[0;34m\u001b[0m\u001b[0m\n\u001b[1;32m    383\u001b[0m             \u001b[0mself\u001b[0m\u001b[0;34m.\u001b[0m\u001b[0m_handle\u001b[0m \u001b[0;34m=\u001b[0m \u001b[0mhandle\u001b[0m\u001b[0;34m\u001b[0m\u001b[0;34m\u001b[0m\u001b[0m\n",
      "\u001b[0;31mOSError\u001b[0m: dlopen(/Users/margotgeerts/Documents/CPP-DecisionTreeRegressor/CPP-DecisionTreeRegressor/../build/libDecisionTree.dylib, 0x0006): tried: '/Users/margotgeerts/Documents/CPP-DecisionTreeRegressor/CPP-DecisionTreeRegressor/../build/libDecisionTree.dylib' (no such file), '/usr/local/lib/libDecisionTree.dylib' (no such file), '/usr/lib/libDecisionTree.dylib' (no such file)"
     ]
    }
   ],
   "source": [
    "# read data csvs into C++ library and return predictions\n",
    "predictions = cpp_decision_tree(\"./test/resources/train.csv\", \"./test/resources/test.csv\")"
   ]
  },
  {
   "cell_type": "code",
   "execution_count": null,
   "id": "244e83fa-2988-4792-93a6-5c2c34b231c3",
   "metadata": {},
   "outputs": [],
   "source": []
  }
 ],
 "metadata": {
  "kernelspec": {
   "display_name": "Python 3",
   "language": "python",
   "name": "python3"
  },
  "language_info": {
   "codemirror_mode": {
    "name": "ipython",
    "version": 3
   },
   "file_extension": ".py",
   "mimetype": "text/x-python",
   "name": "python",
   "nbconvert_exporter": "python",
   "pygments_lexer": "ipython3",
   "version": "3.8.8"
  }
 },
 "nbformat": 4,
 "nbformat_minor": 5
}
